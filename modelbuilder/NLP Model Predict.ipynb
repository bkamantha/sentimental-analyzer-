{
 "cells": [
  {
   "cell_type": "code",
   "execution_count": 33,
   "metadata": {},
   "outputs": [],
   "source": [
    "import numpy as np\n",
    "import pandas as pd\n",
    "import re\n",
    "import string\n",
    "import pickle\n",
    "\n",
    "from nltk.stem import PorterStemmer\n",
    "ps = PorterStemmer()"
   ]
  },
  {
   "cell_type": "code",
   "execution_count": 34,
   "metadata": {},
   "outputs": [],
   "source": [
    "def remove_punctuations(text):\n",
    "    for punctuation in string.punctuation:\n",
    "        text = text.replace(punctuation, '')\n",
    "    return text"
   ]
  },
  {
   "cell_type": "code",
   "execution_count": 35,
   "metadata": {},
   "outputs": [],
   "source": [
    "with open('data/model.pickle', 'rb') as f:\n",
    "    model = pickle.load(f)\n",
    "    \n",
    "with open('data/corpora/stopwords/english', 'r') as file:\n",
    "    sw = file.read().splitlines()\n",
    "\n",
    "vocab = pd.read_csv('data/vocab.txt', header=None)\n",
    "tokens = vocab[0].tolist()"
   ]
  },
  {
   "cell_type": "code",
   "execution_count": 36,
   "metadata": {},
   "outputs": [
    {
     "name": "stderr",
     "output_type": "stream",
     "text": [
      "<>:6: SyntaxWarning: invalid escape sequence '\\d'\n",
      "<>:6: SyntaxWarning: invalid escape sequence '\\d'\n",
      "/var/folders/hf/l0z16p6s1plffl0kj40mr1b00000gn/T/ipykernel_12730/4198590472.py:6: SyntaxWarning: invalid escape sequence '\\d'\n",
      "  .str.replace('\\d+', '', regex=True) \\\n"
     ]
    }
   ],
   "source": [
    "def preprocessing(text):\n",
    "    return pd.DataFrame([text], columns=['tweet'])['tweet'] \\\n",
    "        .apply(lambda x: \" \".join(x.lower() for x in x.split())) \\\n",
    "        .apply(lambda x: \" \".join(re.sub(r'^https?:\\/\\/.*[\\r\\n]*', '', x, flags=re.MULTILINE) for x in x.split())) \\\n",
    "        .apply(remove_punctuations) \\\n",
    "        .str.replace('\\d+', '', regex=True) \\\n",
    "        .apply(lambda x: \" \".join(x for x in x.split() if x not in sw)) \\\n",
    "        .apply(lambda x: \" \".join(ps.stem(x) for x in x.split()))\n"
   ]
  },
  {
   "cell_type": "code",
   "execution_count": 37,
   "metadata": {},
   "outputs": [],
   "source": [
    "def vectorizer(ds,vocabulary):\n",
    "    vectorized_list = []\n",
    "    for sentence in ds:\n",
    "        sentence_list = np.zeros(len(vocabulary))\n",
    "        \n",
    "        for i in range(len(vocabulary)):\n",
    "                if vocabulary[i] in sentence.split():\n",
    "                    sentence_list[i] = 1\n",
    "        \n",
    "        vectorized_list.append(sentence_list)   \n",
    "    \n",
    "    vectorized_new_list =np.asarray(vectorized_list,dtype=np.float32)\n",
    "    return vectorized_new_list"
   ]
  },
  {
   "cell_type": "code",
   "execution_count": 38,
   "metadata": {},
   "outputs": [],
   "source": [
    "def get_prediction(vectorized_text):\n",
    "    prediction = model.predict(vectorized_text)\n",
    "    print(prediction)\n",
    "    if prediction == 1:\n",
    "        return 'negative'\n",
    "    else:\n",
    "        return 'positive'"
   ]
  },
  {
   "cell_type": "code",
   "execution_count": 42,
   "metadata": {},
   "outputs": [
    {
     "name": "stdout",
     "output_type": "stream",
     "text": [
      "[1]\n",
      "negative\n"
     ]
    }
   ],
   "source": [
    "txt = \"This product did not meet my expectations due to bad quality, and I am disappointed with the overall quality.\"\n",
    "# txt = \"This product is amazing, and I am very happy with the overall quality.\"\n",
    "\n",
    "preprocessed_txt = preprocessing(txt)\n",
    "vectorized_txt = vectorizer(preprocessed_txt, tokens)\n",
    "prediction = get_prediction(vectorized_txt)\n",
    "\n",
    "print(prediction)"
   ]
  },
  {
   "cell_type": "code",
   "execution_count": null,
   "metadata": {},
   "outputs": [],
   "source": []
  }
 ],
 "metadata": {
  "kernelspec": {
   "display_name": "env_notebook",
   "language": "python",
   "name": "python3"
  },
  "language_info": {
   "codemirror_mode": {
    "name": "ipython",
    "version": 3
   },
   "file_extension": ".py",
   "mimetype": "text/x-python",
   "name": "python",
   "nbconvert_exporter": "python",
   "pygments_lexer": "ipython3",
   "version": "3.12.1"
  }
 },
 "nbformat": 4,
 "nbformat_minor": 2
}
